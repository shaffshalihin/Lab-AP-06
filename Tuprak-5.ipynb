{
 "cells": [
  {
   "cell_type": "code",
   "execution_count": 1,
   "metadata": {},
   "outputs": [
    {
     "name": "stdout",
     "output_type": "stream",
     "text": [
      "palindrom\n"
     ]
    }
   ],
   "source": [
    "inp\t\t\t= input('Masukkan string: ')\n",
    "string\t\t= inp.replace(',', '').split(' ')\n",
    "string\t\t= ''.join(string).lower()\n",
    "keterangan\t= 'palindrom' if string == string[::-1] else 'not palindrom'\n",
    "print(keterangan)"
   ]
  },
  {
   "cell_type": "code",
   "execution_count": 38,
   "metadata": {},
   "outputs": [
    {
     "name": "stdout",
     "output_type": "stream",
     "text": [
      "Dari 'naef hwaugh ofwois' yang telah diimput dihasilkan akronim yaitu NHO\n"
     ]
    }
   ],
   "source": [
    "inp     = input('Masukkan kata-kata: ')\n",
    "words\t= inp.split()\n",
    "akronim\t= ''.join([word[0].upper() for word in words])\n",
    "print(f\"Dari '{inp}' yang telah diimput dihasilkan akronim yaitu {akronim}\")"
   ]
  },
  {
   "cell_type": "code",
   "execution_count": 24,
   "metadata": {},
   "outputs": [
    {
     "name": "stdout",
     "output_type": "stream",
     "text": [
      "8\n"
     ]
    }
   ],
   "source": [
    "def min_hapus_anagram(s1, s2):\n",
    "    count1 = {i: s1.count(i) for i in s1}\n",
    "    count2 = {i: s2.count(i) for i in s2}\n",
    "    deletions = 0\n",
    "    for char in count1:\n",
    "        deletions += abs(count1[char] - count2[char]) if char in count2 else count1[char]\n",
    "    for char in count2:\n",
    "        deletions += count2[char] if char not in count1 else 0\n",
    "    print(deletions)\n",
    "min_hapus_anagram(input(\"Masukkan string pertama: \"), input(\"Masukkan string kedua: \"))"
   ]
  },
  {
   "cell_type": "code",
   "execution_count": null,
   "metadata": {},
   "outputs": [],
   "source": [
    "z = input(\"Masukkan kata: \")\n",
    "x = 1\n",
    "while x < len(z)+1:\n",
    "\tfor i in range(0, len(z)+1):\n",
    "\t\tprint(z[i:i+x]) if i+x < len(z)+1 else ''\n",
    "\tx+=1"
   ]
  },
  {
   "cell_type": "code",
   "execution_count": 25,
   "metadata": {},
   "outputs": [
    {
     "name": "stdout",
     "output_type": "stream",
     "text": [
      "hmfsiwf23\n"
     ]
    }
   ],
   "source": [
    "def caesar_cipher(string, shift):\n",
    "    result = []\n",
    "    for char in string:\n",
    "        if char.isalpha():\n",
    "            limit\t= 'a' if char.islower() else 'A'\n",
    "            shifted = chr((ord(char) - ord(limit) + shift) % 26 + ord(limit))\n",
    "            result.append(shifted)\n",
    "        else:\n",
    "            result.append(char)\n",
    "    print(''.join(result))\n",
    "\n",
    "caesar_cipher(input(\"Masukkan string: \"), int(input(\"Masukkan jumlah pergeseran: \")))"
   ]
  },
  {
   "cell_type": "code",
   "execution_count": 52,
   "metadata": {},
   "outputs": [
    {
     "name": "stdout",
     "output_type": "stream",
     "text": [
      "25\n",
      "[\n"
     ]
    }
   ],
   "source": [
    "print(ord('z')-ord('a'))\n",
    "print(chr(91))"
   ]
  }
 ],
 "metadata": {
  "kernelspec": {
   "display_name": "Python 3",
   "language": "python",
   "name": "python3"
  },
  "language_info": {
   "codemirror_mode": {
    "name": "ipython",
    "version": 3
   },
   "file_extension": ".py",
   "mimetype": "text/x-python",
   "name": "python",
   "nbconvert_exporter": "python",
   "pygments_lexer": "ipython3",
   "version": "3.12.5"
  }
 },
 "nbformat": 4,
 "nbformat_minor": 2
}

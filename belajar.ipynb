{
 "cells": [
  {
   "cell_type": "code",
   "execution_count": 2,
   "metadata": {},
   "outputs": [
    {
     "name": "stdout",
     "output_type": "stream",
     "text": [
      "['ibu', 'ratna,', 'antar', 'ubi']\n"
     ]
    }
   ],
   "source": [
    "# inp = input('Masukkan string: ')\n",
    "inp = \"ibu ratna, antar ubi\"\n",
    "string  = inp.split(', ')\n",
    "print(string)\n"
   ]
  },
  {
   "cell_type": "code",
   "execution_count": 16,
   "metadata": {},
   "outputs": [
    {
     "name": "stdout",
     "output_type": "stream",
     "text": [
      "kode\t\t: 001\n",
      "nama\t\t: jagung\n",
      "jumlah\t\t: 2\n",
      "harga\t\t: 3\n",
      "--------------------\n",
      "kode\t\t: 002\n",
      "nama\t\t: kucing\n",
      "jumlah\t\t: 6\n",
      "harga\t\t: 4\n",
      "--------------------\n"
     ]
    }
   ],
   "source": [
    "listBarang = {\n",
    "\t'001': {'kode': '001', 'nama': 'jagung', 'jumlah': 2, 'harga': 3},\n",
    "\t'002': {'kode': '002', 'nama': 'kucing', 'jumlah': 6, 'harga': 4},\n",
    "}\n",
    "\n",
    "for x, y in listBarang.items():\n",
    "\tfor z, w in y.items():\n",
    "\t\tprint(f\"{z}\\t\\t: {w:}\")\n",
    "\tprint('-'*20)\n",
    "\n",
    "\n"
   ]
  }
 ],
 "metadata": {
  "kernelspec": {
   "display_name": "Python 3",
   "language": "python",
   "name": "python3"
  },
  "language_info": {
   "codemirror_mode": {
    "name": "ipython",
    "version": 3
   },
   "file_extension": ".py",
   "mimetype": "text/x-python",
   "name": "python",
   "nbconvert_exporter": "python",
   "pygments_lexer": "ipython3",
   "version": "3.12.5"
  }
 },
 "nbformat": 4,
 "nbformat_minor": 2
}

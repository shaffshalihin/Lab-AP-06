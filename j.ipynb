{
 "cells": [
  {
   "cell_type": "code",
   "execution_count": 1,
   "metadata": {},
   "outputs": [
    {
     "name": "stdout",
     "output_type": "stream",
     "text": [
      "Hasil: Pembagian dengan nol tidak diperbolehkan.\n"
     ]
    }
   ],
   "source": [
    "# Kalkulator Sederhana\n",
    "a = float(input(\"Angka pertama: \"))\n",
    "b = float(input(\"Angka kedua: \"))\n",
    "op = input(\"Operasi (+, -, *, /): \")\n",
    "\n",
    "hasil = a + b if op == '+' else a - b if op == '-' else a * b if op == '*' else a / b if op == '/' and b != 0 else \"Pembagian dengan nol tidak diperbolehkan.\"\n",
    "print(f\"Hasil: {hasil}\")"
   ]
  }
 ],
 "metadata": {
  "kernelspec": {
   "display_name": "Python 3",
   "language": "python",
   "name": "python3"
  },
  "language_info": {
   "codemirror_mode": {
    "name": "ipython",
    "version": 3
   },
   "file_extension": ".py",
   "mimetype": "text/x-python",
   "name": "python",
   "nbconvert_exporter": "python",
   "pygments_lexer": "ipython3",
   "version": "3.12.5"
  }
 },
 "nbformat": 4,
 "nbformat_minor": 2
}
